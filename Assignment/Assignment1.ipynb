{
  "nbformat": 4,
  "nbformat_minor": 0,
  "metadata": {
    "colab": {
      "provenance": []
    },
    "kernelspec": {
      "name": "python3",
      "display_name": "Python 3"
    },
    "language_info": {
      "name": "python"
    }
  },
  "cells": [
    {
      "cell_type": "markdown",
      "source": [
        "# Q1. Create a base class Shape with methods area and perimeter. Then create two derived classes Rectangle and Circle. Override the methods to calculate the area and perimeter for each shape. Demonstrate polymorphism by creating a list of shapes and computing their area and perimeter.\n",
        "# Requirements:\n",
        "# 1. Implement the Shape base class with methods area and perimeter.\n",
        "# 2. Implement the Rectangle and Circle classes with overridden methods.\n",
        "# 3. Create a list containing both Rectangle and Circle objects and demonstrate polymorphism by iterating through the list and printing the area and perimeter of each shape."
      ],
      "metadata": {
        "id": "znpeFr4gw_ez"
      }
    },
    {
      "cell_type": "code",
      "source": [
        "import math\n",
        "\n",
        "class Shape:\n",
        "  def area(self):\n",
        "    pass\n",
        "\n",
        "  def perimeter(self):\n",
        "    pass\n",
        "\n",
        "\n",
        "# Derived class: Rectangle\n",
        "class Rectangle(Shape):\n",
        "  def __init__(self, breadth, length):\n",
        "    self.breadth = breadth\n",
        "    self.length=length\n",
        "\n",
        "  def area(self):\n",
        "    return self.breadth*self.length\n",
        "\n",
        "  def perimeter(self):\n",
        "    return 2*(self.breadth+self.length)\n",
        "\n",
        "# derived class : Circle\n",
        "class Circle(Shape):\n",
        "  def __init__(self, radius):\n",
        "    self.radius = radius\n",
        "\n",
        "  def area(self):\n",
        "    return math.pi*self.radius*self.radius\n",
        "\n",
        "  def perimeter(self):\n",
        "    return 2 * math.pi*self.radius\n",
        "\n",
        "\n",
        "# craete objects of rectangle and circle..\n",
        "rect1 = Rectangle(2,3)\n",
        "circle1 = Circle(1)\n",
        "rect2 = Rectangle(5, 10)\n",
        "circle2 = Circle(2)\n",
        "\n",
        "# list of shape objects\n",
        "shapes = [rect1, circle1, rect2, circle2]\n",
        "\n",
        "\n",
        "# demostrate polymorphsim\n",
        "\n",
        "for x in shapes:\n",
        "  print(f\"Shape : {x.__class__.__name__}\") #its run the class name of the current object\n",
        "  print(f\"Area : {x.area()}\")\n",
        "  print(f\"Perimeter : {x.perimeter()}\")\n",
        "  print()"
      ],
      "metadata": {
        "colab": {
          "base_uri": "https://localhost:8080/"
        },
        "id": "c65ctkFbxMs2",
        "outputId": "f7cf19f5-3315-4262-bffa-aa2927146f49"
      },
      "execution_count": 5,
      "outputs": [
        {
          "output_type": "stream",
          "name": "stdout",
          "text": [
            "Shape : Rectangle\n",
            "Area : 6\n",
            "Perimeter : 10\n",
            "\n",
            "Shape : Circle\n",
            "Area : 3.141592653589793\n",
            "Perimeter : 6.283185307179586\n",
            "\n",
            "Shape : Rectangle\n",
            "Area : 50\n",
            "Perimeter : 30\n",
            "\n",
            "Shape : Circle\n",
            "Area : 12.566370614359172\n",
            "Perimeter : 12.566370614359172\n",
            "\n"
          ]
        }
      ]
    },
    {
      "cell_type": "code",
      "source": [],
      "metadata": {
        "id": "-QpRIF_RyzmH"
      },
      "execution_count": null,
      "outputs": []
    },
    {
      "cell_type": "markdown",
      "source": [
        "# Q2. You are given a list of tuples where each tuple contains the name of a student and their scores in three subjects. Implement a function rank_students to calculate the total score for each student, sort the students based on their total score in descending order, and return a ranked list.\n",
        "# Requirements:\n",
        "# 1. Define the list of tuples with at least 5 students.\n",
        "# 2. Implement the rank_students function.\n",
        "# 3. Sort the students based on their total score. 4. Print the ranked list."
      ],
      "metadata": {
        "id": "DRpKThElyz-2"
      }
    },
    {
      "cell_type": "code",
      "source": [],
      "metadata": {
        "id": "w1e602nPy-Ik"
      },
      "execution_count": null,
      "outputs": []
    }
  ]
}